{
  "nbformat": 4,
  "nbformat_minor": 0,
  "metadata": {
    "colab": {
      "name": "GoogleSheetsWithPandas.ipynb",
      "provenance": [],
      "collapsed_sections": [],
      "authorship_tag": "ABX9TyPKkMN404k+7f+E+sHqj6YJ",
      "include_colab_link": true
    },
    "kernelspec": {
      "name": "python3",
      "display_name": "Python 3"
    }
  },
  "cells": [
    {
      "cell_type": "markdown",
      "metadata": {
        "id": "view-in-github",
        "colab_type": "text"
      },
      "source": [
        "<a href=\"https://colab.research.google.com/github/fernandobloedorn/Python/blob/main/GoogleSheetsWithPandas.ipynb\" target=\"_parent\"><img src=\"https://colab.research.google.com/assets/colab-badge.svg\" alt=\"Open In Colab\"/></a>"
      ]
    },
    {
      "cell_type": "code",
      "metadata": {
        "id": "FrpV-pnotFVE"
      },
      "source": [
        "!pip install --upgrade gspread"
      ],
      "execution_count": null,
      "outputs": []
    },
    {
      "cell_type": "code",
      "metadata": {
        "id": "3wHyfK7ut2ig"
      },
      "source": [
        "# Autenticando\n",
        "from google.colab import auth\n",
        "auth.authenticate_user()\n",
        "\n",
        "import gspread\n",
        "from oauth2client.client import GoogleCredentials\n",
        "\n",
        "gc = gspread.authorize(GoogleCredentials.get_application_default())"
      ],
      "execution_count": 2,
      "outputs": []
    },
    {
      "cell_type": "code",
      "metadata": {
        "id": "mV6Z9r75uGXA"
      },
      "source": [
        "# Lendo o arquivo\n",
        "spreasheet = gc.open('Base e-commerce')"
      ],
      "execution_count": 3,
      "outputs": []
    },
    {
      "cell_type": "code",
      "metadata": {
        "id": "4Ok6V7rRuOr4"
      },
      "source": [
        "# Pegando a planilha\n",
        "page = spreasheet.sheet1\n",
        "page.row_values(1)"
      ],
      "execution_count": null,
      "outputs": []
    },
    {
      "cell_type": "code",
      "metadata": {
        "id": "n4lc6po0xRC0"
      },
      "source": [
        "# Lendo o conteúdo de uma celula\n",
        "page.acell('L9').value"
      ],
      "execution_count": null,
      "outputs": []
    },
    {
      "cell_type": "code",
      "metadata": {
        "id": "epnDh5Orxarn",
        "outputId": "7683f33c-20f3-4669-fb03-4070c6a4f372",
        "colab": {
          "base_uri": "https://localhost:8080/",
          "height": 35
        }
      },
      "source": [
        "# Lendo o conteúdo de uma celula\n",
        "page.cell(10,14).value"
      ],
      "execution_count": 27,
      "outputs": [
        {
          "output_type": "execute_result",
          "data": {
            "application/vnd.google.colaboratory.intrinsic+json": {
              "type": "string"
            },
            "text/plain": [
              "'DESKTOP'"
            ]
          },
          "metadata": {
            "tags": []
          },
          "execution_count": 27
        }
      ]
    },
    {
      "cell_type": "code",
      "metadata": {
        "id": "AExgT8QWw0JQ",
        "outputId": "7ae96265-0f50-4759-d0fe-a364dae91f8f",
        "colab": {
          "base_uri": "https://localhost:8080/",
          "height": 102
        }
      },
      "source": [
        "# Manipulando as células\n",
        "page.update('S2','TESTE DO FERNANDO')\n",
        "page.update('S2','')"
      ],
      "execution_count": 21,
      "outputs": [
        {
          "output_type": "execute_result",
          "data": {
            "text/plain": [
              "{'spreadsheetId': '1XpiFrxOWZM5iVnbx-z-YONDQiWtBCPvRqTFZStUZWg4',\n",
              " 'updatedCells': 1,\n",
              " 'updatedColumns': 1,\n",
              " 'updatedRange': 'arq!S2',\n",
              " 'updatedRows': 1}"
            ]
          },
          "metadata": {
            "tags": []
          },
          "execution_count": 21
        }
      ]
    },
    {
      "cell_type": "code",
      "metadata": {
        "id": "WdEnfoXKuWxQ"
      },
      "source": [
        "import pandas as pd\n",
        "df = pd.DataFrame(page.get_all_records())\n",
        "df.head()"
      ],
      "execution_count": null,
      "outputs": []
    },
    {
      "cell_type": "code",
      "metadata": {
        "id": "11i-Fyziugl3"
      },
      "source": [
        "df_rs = df.query('ESTADO==\"RS\"')\n",
        "df_rs.head()"
      ],
      "execution_count": null,
      "outputs": []
    },
    {
      "cell_type": "code",
      "metadata": {
        "id": "-r36o2LdvEkf"
      },
      "source": [
        "# Total de linhas e colunas\n",
        "rows_number = len(df_rs)\n",
        "columns_number = len(df_rs.columns)\n",
        "print(rows_number,columns_number)"
      ],
      "execution_count": null,
      "outputs": []
    },
    {
      "cell_type": "code",
      "metadata": {
        "id": "qM7qGCUPvneH"
      },
      "source": [
        "# Total de linhas e colunas\n",
        "print(df_rs.shape)"
      ],
      "execution_count": null,
      "outputs": []
    },
    {
      "cell_type": "code",
      "metadata": {
        "id": "2ci6Cl3Cvu73"
      },
      "source": [
        "# Total de linhas e colunas\n",
        "print(df_rs.shape[0], \" \", df_rs.shape[1])"
      ],
      "execution_count": null,
      "outputs": []
    },
    {
      "cell_type": "code",
      "metadata": {
        "id": "8dfx-2BAwIKW"
      },
      "source": [
        "# Criando uma nova planilha\n",
        "rs_shett = spreasheet.add_worksheet('RS',rows=rows_number, cols=columns_number)"
      ],
      "execution_count": 17,
      "outputs": []
    },
    {
      "cell_type": "code",
      "metadata": {
        "id": "PaJ_W739wTEm"
      },
      "source": [
        "# Adicionando a planilha criada ao arquivo do GoogleSheets\n",
        "rs_shett.update([df_rs.columns.values.tolist()] + df_rs.values.tolist())"
      ],
      "execution_count": null,
      "outputs": []
    },
    {
      "cell_type": "code",
      "metadata": {
        "id": "e1n24ZMtwTVy"
      },
      "source": [
        ""
      ],
      "execution_count": null,
      "outputs": []
    }
  ]
}